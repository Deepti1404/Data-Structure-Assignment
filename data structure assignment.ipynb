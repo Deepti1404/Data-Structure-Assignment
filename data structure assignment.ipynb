{
 "cells": [
  {
   "cell_type": "markdown",
   "id": "c8419cdc-69c1-4e3f-85d7-ec35c07b94ff",
   "metadata": {},
   "source": [
    "# THERORY QUESTION ANSWER\n",
    "\n",
    "# 1.What are data structures, and why are they important?\n",
    ":-  Data structures are ways to store and organize data for efficient access and modification. They are important because they help in optimizing programs by choosing the right structure for specific tasks.\n",
    "#Example:  Lists, tuples, dictionaries, and sets in Python."
   ]
  },
  {
   "cell_type": "markdown",
   "id": "dba9764e-882f-432f-8c5d-4562ac8f332d",
   "metadata": {},
   "source": [
    "# 2.Explain the difference between mutable and immutable data types with examples.\n",
    ":- Mutable vs Immutable Data Types\n",
    "Answer:\n",
    ". Mutable: Can be changed after creation (e.g., lists, dictionaries).\n",
    ". Immutable: Cannot be changed after creation (e.g., strings, tuples).\n"
   ]
  },
  {
   "cell_type": "code",
   "execution_count": null,
   "id": "e668afa7-cdf1-46d8-9f09-5edb2cc660b2",
   "metadata": {},
   "outputs": [],
   "source": [
    "#example\n",
    "lst = [1, 2, 3]  # Mutable\n",
    "lst.append(4)\n",
    "\n",
    "s = \"hello\"  # Immutable\n",
    "# s[0] = \"H\"  → Error\n"
   ]
  },
  {
   "cell_type": "markdown",
   "id": "d9f0c552-cdfd-445e-916f-c1153ebf953f",
   "metadata": {},
   "source": [
    "# 3.What are the main differences between lists and tuples in Python?\n",
    ":- Lists vs Tuples in Python\n",
    ". List: Mutable, dynamic, square brackets [].\n",
    ". Tuple: Immutable, faster, parentheses ()."
   ]
  },
  {
   "cell_type": "code",
   "execution_count": null,
   "id": "cec29714-e1e9-4f31-a5d2-7d31e897d900",
   "metadata": {},
   "outputs": [],
   "source": [
    "#example\n",
    "my_list = [1, 2, 3]\n",
    "my_tuple = (1, 2, 3)\n"
   ]
  },
  {
   "cell_type": "markdown",
   "id": "09f3dc48-8bd3-47da-98b7-6d43f5da099f",
   "metadata": {},
   "source": [
    "# 4.  Describe how dictionaries store data?\n",
    ":- How Dictionaries Store Data.\n",
    " Dictionaries store data as key-value pairs using a hash table."
   ]
  },
  {
   "cell_type": "code",
   "execution_count": null,
   "id": "463e3a88-dbcb-4169-a50b-9670e010c5b0",
   "metadata": {},
   "outputs": [],
   "source": [
    "#example\n",
    "person = {\"name\": \"Alice\", \"age\": 25}\n"
   ]
  },
  {
   "cell_type": "markdown",
   "id": "e3eea2a7-b497-4df9-a205-88485622f4da",
   "metadata": {},
   "source": [
    "# 5. Why might you use a set instead of a list in Python?\n",
    ":- Sets do not allow duplicates and are faster for checking membership."
   ]
  },
  {
   "cell_type": "code",
   "execution_count": null,
   "id": "18dd9652-53f8-4eb7-bdb9-b10c27873d3b",
   "metadata": {},
   "outputs": [],
   "source": [
    "#example\n",
    "my_set = {1, 2, 2, 3}\n",
    "print(my_set)  # Output: {1, 2, 3}"
   ]
  },
  {
   "cell_type": "markdown",
   "id": "a3b0829b-6991-434e-82d4-027084b2837f",
   "metadata": {},
   "source": [
    "# 6. What is a string in Python, and how is it different from a list?\n",
    ":-  A string is a sequence of characters, immutable, while a list is mutable and can store various data types."
   ]
  },
  {
   "cell_type": "code",
   "execution_count": null,
   "id": "b982d6b6-aff5-4f02-aa83-2a0fa5be68d4",
   "metadata": {},
   "outputs": [],
   "source": [
    "#example\n",
    "s = \"hello\"      # Immutable\n",
    "lst = ['h', 'e', 'l', 'l', 'o']  # Mutable\n"
   ]
  },
  {
   "cell_type": "markdown",
   "id": "1b87cc5a-6eec-446b-ac29-ddc0ae1ab614",
   "metadata": {},
   "source": [
    "# 7. How do tuples ensure data integrity in Python?\n",
    ":- Tuples are immutable, so their contents can't be changed after creation, ensuring consistent data."
   ]
  },
  {
   "cell_type": "code",
   "execution_count": null,
   "id": "693b065e-59d0-4783-9101-c437856c6b94",
   "metadata": {},
   "outputs": [],
   "source": [
    "#example\n",
    "coordinates = (10.5, 20.3)  # Safe from modification\n"
   ]
  },
  {
   "cell_type": "markdown",
   "id": "012a83be-f4b9-4f09-bb1b-8c747638350c",
   "metadata": {},
   "source": [
    "# 8. What is a hash table, and how does it relate to dictionaries in Python?\n",
    ":- A hash table stores key-value pairs using a hashing function for fast access. Python dictionaries are implemented using hash tables."
   ]
  },
  {
   "cell_type": "markdown",
   "id": "c8f181f1-d671-478d-930b-b98137a82e75",
   "metadata": {},
   "source": [
    "# 9. Can lists contain different data types in Python?\n",
    ":- Yes, lists in Python can store elements of different types."
   ]
  },
  {
   "cell_type": "code",
   "execution_count": null,
   "id": "084741d7-502b-4795-9e42-453b2441ba96",
   "metadata": {},
   "outputs": [],
   "source": [
    "#example\n",
    "my_list = [1, \"hello\", 3.14]"
   ]
  },
  {
   "cell_type": "markdown",
   "id": "20dbd18f-379d-4cf0-89da-07b89189ff94",
   "metadata": {},
   "source": [
    "# 10. Explain why strings are immutable in Python.\n",
    ":- To ensure data integrity and memory efficiency, since strings are widely used and shared in memory."
   ]
  },
  {
   "cell_type": "code",
   "execution_count": null,
   "id": "a3a7b1ed-f5d3-4520-b2a5-77ad13f4f9e9",
   "metadata": {},
   "outputs": [],
   "source": [
    "#example\n",
    "s = \"hello\"\n",
    "# s[0] = \"H\"  → Error"
   ]
  },
  {
   "cell_type": "markdown",
   "id": "ef13881c-8ae9-4761-af0e-fbd335fb87fc",
   "metadata": {},
   "source": [
    "# 11.What advantages do dictionaries offer over lists for certain tasks?\n",
    ":- . Faster data lookup by key.\n",
    ". Organized data as key-value pairs."
   ]
  },
  {
   "cell_type": "code",
   "execution_count": null,
   "id": "a28cb996-4b01-4dd9-a3f1-0e07fe4d9f04",
   "metadata": {},
   "outputs": [],
   "source": [
    "#example\n",
    "students = {\"name\": \"John\", \"age\": 20}"
   ]
  },
  {
   "cell_type": "markdown",
   "id": "e84e9a10-3a6b-49d3-9dc6-3c55dc3a23e9",
   "metadata": {},
   "source": [
    "# 12. Describe a scenario where using a tuple would be preferable over a list.\n",
    ":- When data should not change, like geographic coordinates or config values."
   ]
  },
  {
   "cell_type": "code",
   "execution_count": null,
   "id": "c5eb3670-2bd4-4a75-b0f1-c192da9e3c6f",
   "metadata": {},
   "outputs": [],
   "source": [
    "#example\n",
    "config = (\"localhost\", 8080)"
   ]
  },
  {
   "cell_type": "markdown",
   "id": "b7751366-7831-4345-b9f2-90d1c5888cac",
   "metadata": {},
   "source": [
    "# 13. How do sets handle duplicate values in Python?\n",
    ":- Sets automatically remove duplicate values."
   ]
  },
  {
   "cell_type": "code",
   "execution_count": null,
   "id": "e58c096b-3149-4beb-9f06-3c154433a450",
   "metadata": {},
   "outputs": [],
   "source": [
    "#example\n",
    "s = {1, 2, 2, 3}\n",
    "print(s)  # Output: {1, 2, 3}"
   ]
  },
  {
   "cell_type": "markdown",
   "id": "39212b2b-cc5f-4bd5-a73f-3bf458118836",
   "metadata": {},
   "source": [
    "# 14. How does the “in” keyword work differently for lists and dictionaries?\n",
    ":- In lists: Checks for presence of value.\n",
    "In dictionaries: Checks for presence of key."
   ]
  },
  {
   "cell_type": "code",
   "execution_count": null,
   "id": "7e783147-b51e-47a2-b358-c64d613a36ba",
   "metadata": {},
   "outputs": [],
   "source": [
    "#example\n",
    "3 in [1, 2, 3]  # True\n",
    "\"name\" in {\"name\": \"Alice\"}  # True"
   ]
  },
  {
   "cell_type": "markdown",
   "id": "7d57071d-1d12-41fa-9ede-32e84bf88659",
   "metadata": {},
   "source": [
    "# 15. Can you modify the elements of a tuple? Explain why or why not.\n",
    ":- No, tuples are immutable; elements cannot be changed."
   ]
  },
  {
   "cell_type": "code",
   "execution_count": null,
   "id": "1f723de8-d6eb-4a6d-8e4b-25c00b0a8088",
   "metadata": {},
   "outputs": [],
   "source": [
    "#example\n",
    "t = (1, 2, 3)\n",
    "# t[0] = 10 → Error"
   ]
  },
  {
   "cell_type": "markdown",
   "id": "869cc0c2-33ce-4426-af78-d4324e2fd56a",
   "metadata": {},
   "source": [
    "# 16. What is a nested dictionary, and give an example of its use case?\n",
    ":-  A dictionary inside another dictionary."
   ]
  },
  {
   "cell_type": "code",
   "execution_count": null,
   "id": "0ee53d21-aa66-433c-8361-a8d2825f2487",
   "metadata": {},
   "outputs": [],
   "source": [
    "#example\n",
    "student = {\n",
    "    \"name\": \"Alice\",\n",
    "    \"marks\": {\"math\": 90, \"science\": 85}\n",
    "}"
   ]
  },
  {
   "cell_type": "markdown",
   "id": "7fb12064-7a86-47d4-9ce0-64379402008b",
   "metadata": {},
   "source": [
    "# 17. Describe the time complexity of accessing elements in a dictionary.\n",
    ":- On average, accessing a value by key in a dictionary is O(1)."
   ]
  },
  {
   "cell_type": "markdown",
   "id": "906abca4-8363-4f06-8095-592dd961badb",
   "metadata": {},
   "source": [
    "#  18. In what situations are lists preferred over dictionaries?\n",
    ":-  When order and indexing matter and keys are not needed."
   ]
  },
  {
   "cell_type": "code",
   "execution_count": null,
   "id": "e28b1081-ff43-4644-8f28-4a5cd240366f",
   "metadata": {},
   "outputs": [],
   "source": [
    "#example\n",
    "names = [\"Alice\", \"Bob\", \"Charlie\"]"
   ]
  },
  {
   "cell_type": "markdown",
   "id": "4e6eaca1-2a4d-42c4-8cc5-ef133b3d4d85",
   "metadata": {},
   "source": [
    "# 19. Why are dictionaries considered unordered, and how does that affect data retrieval?\n",
    ":-. Prior to Python 3.7, dictionaries did not maintain insertion order.\n",
    ". Retrieval by key, not position.\n",
    "  Note: From Python 3.7+, order is preserved but not guaranteed for logical operations."
   ]
  },
  {
   "cell_type": "markdown",
   "id": "7f3c29c2-3c4f-4888-8d26-320122b4bf38",
   "metadata": {},
   "source": [
    "# 20. Explain the difference between a list and a dictionary in terms of data retrieval.\n",
    ":- List vs Dictionary: Data Retrieval\n",
    ". List: Access via index.\n",
    ". Dictionary: Access via key."
   ]
  },
  {
   "cell_type": "code",
   "execution_count": null,
   "id": "0e18d915-0ba8-4d77-89e7-0e55439009be",
   "metadata": {},
   "outputs": [],
   "source": [
    "#example\n",
    "my_list = [10, 20, 30]\n",
    "my_dict = {\"a\": 10, \"b\": 20}\n",
    "print(my_list[1])  # 20\n",
    "print(my_dict[\"b\"])  # 20"
   ]
  },
  {
   "cell_type": "markdown",
   "id": "5bacd9ef-bd91-43a9-a7fd-18d3362b48b2",
   "metadata": {},
   "source": [
    "# PRACTICAL QUESTION ANSWER"
   ]
  },
  {
   "cell_type": "markdown",
   "id": "6ce91843-8fd2-4bc6-ad49-2e679092fd1e",
   "metadata": {},
   "source": [
    "# 1. Write a code to create a string with your name and print it.\n",
    ":- Create a string with your name and print it"
   ]
  },
  {
   "cell_type": "code",
   "execution_count": null,
   "id": "7642502d-599a-44c5-aced-8075c084033a",
   "metadata": {},
   "outputs": [],
   "source": [
    "#Example\n",
    "name = \"John\"\n",
    "print(name)"
   ]
  },
  {
   "cell_type": "markdown",
   "id": "e159ee33-904a-4b54-a226-f0b85463ab93",
   "metadata": {},
   "source": [
    "# 2. Write a code to find the length of the string \"Hello World\".\n",
    ":- Find the length of the string \"Hello World\""
   ]
  },
  {
   "cell_type": "code",
   "execution_count": null,
   "id": "df1ebe7f-daab-4f3c-853b-5aa058e35f08",
   "metadata": {},
   "outputs": [],
   "source": [
    "#example\n",
    "text = \"Hello World\"\n",
    "print(len(text))  # Output: 11"
   ]
  },
  {
   "cell_type": "markdown",
   "id": "070fa103-3a48-48de-8a55-6d250aa53345",
   "metadata": {},
   "source": [
    "# 3. Write a code to slice the first 3 characters from the string \"Python Programming.\n",
    ":- Slice the first 3 characters from \"Python Programming"
   ]
  },
  {
   "cell_type": "code",
   "execution_count": null,
   "id": "f228a537-2139-4257-b867-4b35129c5b7c",
   "metadata": {},
   "outputs": [],
   "source": [
    "#example\n",
    "s = \"Python Programming\"\n",
    "print(s[:3])  # Output: Pyt"
   ]
  },
  {
   "cell_type": "markdown",
   "id": "70055ffa-6bc9-467a-a6ff-ad8376e4c0eb",
   "metadata": {},
   "source": [
    "# 4. Write a code to convert the string \"hello\" to uppercase..\n",
    ":- Convert the string \"hello\" to uppercase"
   ]
  },
  {
   "cell_type": "code",
   "execution_count": null,
   "id": "e402a862-4016-43e3-887b-e07e58fd7ff6",
   "metadata": {},
   "outputs": [],
   "source": [
    "#example\n",
    "s = \"hello\"\n",
    "print(s.upper())  # Output: HELLO"
   ]
  },
  {
   "cell_type": "markdown",
   "id": "86fb7d8d-397c-4ad0-bdb5-27920c55ef03",
   "metadata": {},
   "source": [
    "# 5.Write a code to replace the word \"apple\" with \"orange\" in the string \"I like apple\".\n",
    ":- Replace \"apple\" with \"orange\" in \"I like apple\""
   ]
  },
  {
   "cell_type": "code",
   "execution_count": null,
   "id": "dbae8c8a-3afc-41bb-b07d-510b604caaa6",
   "metadata": {},
   "outputs": [],
   "source": [
    "#example\n",
    "s = \"I like apple\"\n",
    "print(s.replace(\"apple\", \"orange\"))  # Output: I like orange"
   ]
  },
  {
   "cell_type": "markdown",
   "id": "3c1f8e78-7963-4751-90c1-7c236e844be8",
   "metadata": {},
   "source": [
    "# 6.Write a code to create a list with numbers 1 to 5 and print it.\n",
    ":- Create a list with numbers 1 to 5 and print it"
   ]
  },
  {
   "cell_type": "code",
   "execution_count": null,
   "id": "810ed74e-d25f-4053-8328-93475256e196",
   "metadata": {},
   "outputs": [],
   "source": [
    "#example\n",
    "numbers = [1, 2, 3, 4, 5]\n",
    "print(numbers)"
   ]
  },
  {
   "cell_type": "markdown",
   "id": "eac07fc2-553b-4639-9925-bdfaa88c1d17",
   "metadata": {},
   "source": [
    "# 7 . Write a code to append the number 10 to the list [1, 2, 3, 4].\n",
    ":- Append 10 to list [1, 2, 3, 4]"
   ]
  },
  {
   "cell_type": "code",
   "execution_count": null,
   "id": "88e25751-0e07-4880-9da1-9332cb88bd80",
   "metadata": {},
   "outputs": [],
   "source": [
    "#example\n",
    "lst = [1, 2, 3, 4]\n",
    "lst.append(10)\n",
    "print(lst)  # Output: [1, 2, 3, 4, 10]"
   ]
  },
  {
   "cell_type": "markdown",
   "id": "3b91408b-f30d-4288-bf34-82d1da0e62d1",
   "metadata": {},
   "source": [
    "# 8 . Write a code to remove the number 3 from the list [1, 2, 3, 4, 5].\n",
    ":- Remove 3 from list [1, 2, 3, 4, 5]"
   ]
  },
  {
   "cell_type": "code",
   "execution_count": null,
   "id": "bf10ae8d-9aa5-418f-9e90-4ece357870c2",
   "metadata": {},
   "outputs": [],
   "source": [
    "#example\n",
    "lst = [1, 2, 3, 4, 5]\n",
    "lst.remove(3)\n",
    "print(lst)  # Output: [1, 2, 4, 5]\n"
   ]
  },
  {
   "cell_type": "markdown",
   "id": "61a3b5a6-ffe1-4422-9cda-4cc0e49481b5",
   "metadata": {},
   "source": [
    "# 9 . Write a code to access the second element in the list ['a', 'b', 'c', 'd'].\n",
    ":- Access second element in ['a', 'b', 'c', 'd']"
   ]
  },
  {
   "cell_type": "code",
   "execution_count": null,
   "id": "fbf15f9c-197d-48ef-8169-ef4a68c50778",
   "metadata": {},
   "outputs": [],
   "source": [
    "#example\n",
    "lst = ['a', 'b', 'c', 'd']\n",
    "print(lst[1])  # Output: b\n"
   ]
  },
  {
   "cell_type": "markdown",
   "id": "107a0ec1-2962-4c33-a51c-0e39ebe98b9b",
   "metadata": {},
   "source": [
    "# 10 . Write a code to reverse the list [10, 20, 30, 40, 50].\n",
    ":-  Reverse list [10, 20, 30, 40, 50]"
   ]
  },
  {
   "cell_type": "code",
   "execution_count": null,
   "id": "4fa140ba-a493-43b9-bf65-896f1548d40d",
   "metadata": {},
   "outputs": [],
   "source": [
    "#example\n",
    "lst = [10, 20, 30, 40, 50]\n",
    "print(lst[::-1])  # Output: [50, 40, 30, 20, 10]"
   ]
  },
  {
   "cell_type": "markdown",
   "id": "2de9bb0c-d251-4091-a9d8-1de7b9c0ff76",
   "metadata": {},
   "source": [
    "# 11 . Write a code to create a tuple with the elements 100, 200, 300 and print it.\n",
    ":- Create a tuple with elements 100, 200, 300"
   ]
  },
  {
   "cell_type": "code",
   "execution_count": null,
   "id": "2e0a0e2d-a0a1-49d6-8513-f48d697ae553",
   "metadata": {},
   "outputs": [],
   "source": [
    "#example\n",
    "tup = (100, 200, 300)\n",
    "print(tup)"
   ]
  },
  {
   "cell_type": "markdown",
   "id": "b3fdf82d-d4df-492b-9981-40bbcd95247b",
   "metadata": {},
   "source": [
    "# 12 . Write a code to access the second-to-last element of the tuple ('red', 'green', 'blue, 'yellow').\n",
    ":-  Access second-to-last element in ('red', 'green', 'blue', 'yellow')"
   ]
  },
  {
   "cell_type": "code",
   "execution_count": null,
   "id": "c1721dbc-47cd-4c04-871e-3f4ad7ff6bf0",
   "metadata": {},
   "outputs": [],
   "source": [
    "#example\n",
    "colors = ('red', 'green', 'blue', 'yellow')\n",
    "print(colors[-2])  # Output: blue"
   ]
  },
  {
   "cell_type": "markdown",
   "id": "8507883e-244d-42c0-b076-1af2d6a61fe8",
   "metadata": {},
   "source": [
    "# 13 . Write a code to find the minimum number in the tuple (10, 20, 5, 15).\n",
    ":- Find the minimum number (10, 20, 5, 15)."
   ]
  },
  {
   "cell_type": "code",
   "execution_count": null,
   "id": "661312e1-267b-4e45-a019-83c3cbbb4d8c",
   "metadata": {},
   "outputs": [],
   "source": [
    "#Example\n",
    "nums = (10, 20, 5, 15)\n",
    "print(min(nums))  # Output: 5"
   ]
  },
  {
   "cell_type": "markdown",
   "id": "0c94ad7b-2bcd-4ac2-9c32-770a1e9dda0d",
   "metadata": {},
   "source": [
    "# 14 . Write a code to find the index of the element \"cat\" in the tuple ('dog', 'cat', 'rabbit').\n",
    ":- Find index of \"cat\" in ('dog', 'cat', 'rabbit')"
   ]
  },
  {
   "cell_type": "code",
   "execution_count": null,
   "id": "ea9b5317-ec67-469f-98f4-7cad41607405",
   "metadata": {},
   "outputs": [],
   "source": [
    "#example\n",
    "animals = ('dog', 'cat', 'rabbit')\n",
    "print(animals.index(\"cat\"))  # Output: 1"
   ]
  },
  {
   "cell_type": "markdown",
   "id": "4056a56a-d709-4354-beda-c1c662f1f52c",
   "metadata": {},
   "source": [
    "# 15. Write a code to create a tuple containing three different fruits and check if \"kiwi\" is in it.\n",
    ":- Create tuple with 3 fruits & check for \"kiwi\""
   ]
  },
  {
   "cell_type": "code",
   "execution_count": null,
   "id": "3d0cf678-d5e2-4189-9a0f-2342fcc9c0b6",
   "metadata": {},
   "outputs": [],
   "source": [
    "#example\n",
    "fruits = ('apple', 'banana', 'kiwi')\n",
    "print(\"kiwi\" in fruits)  # Output: True"
   ]
  },
  {
   "cell_type": "markdown",
   "id": "47ff3ce6-83e7-4de5-9350-df9bdd4b1886",
   "metadata": {},
   "source": [
    "# 16. Write a code to create a set with the elements 'a', 'b', 'c' and print it.\n",
    ":- Create a set with 'a', 'b', 'c'"
   ]
  },
  {
   "cell_type": "code",
   "execution_count": null,
   "id": "489f8851-4314-41ea-a5b5-9d3303ef26ff",
   "metadata": {},
   "outputs": [],
   "source": [
    "#example\n",
    "s = {'a', 'b', 'c'}\n",
    "print(s)"
   ]
  },
  {
   "cell_type": "markdown",
   "id": "10dbd72a-55dd-486e-8572-025a13b11946",
   "metadata": {},
   "source": [
    "# 17 . Write a code to clear all elements from the set {1, 2, 3, 4, 5}.\n",
    ":- Clear all elements from {1, 2, 3, 4, 5}"
   ]
  },
  {
   "cell_type": "code",
   "execution_count": null,
   "id": "41c9ff20-8b3c-4440-9f11-9899a91a18c3",
   "metadata": {},
   "outputs": [],
   "source": [
    "#example\n",
    "s = {1, 2, 3, 4, 5}\n",
    "s.clear()\n",
    "print(s)  # Output: set()"
   ]
  },
  {
   "cell_type": "markdown",
   "id": "93333764-2cf5-4b97-926d-39c4aafc392f",
   "metadata": {},
   "source": [
    "# 18. Write a code to remove the element 4 from the set {1, 2, 3, 4}.\n",
    ":-  Remove 4 from {1, 2, 3, 4}"
   ]
  },
  {
   "cell_type": "code",
   "execution_count": null,
   "id": "4a78c061-7ba3-47b2-b8f6-ebb722602425",
   "metadata": {},
   "outputs": [],
   "source": [
    "#example\n",
    "s = {1, 2, 3, 4}\n",
    "s.remove(4)\n",
    "print(s)  # Output: {1, 2, 3}"
   ]
  },
  {
   "cell_type": "markdown",
   "id": "0c0ced2b-5c63-4c44-a998-1198aa31eafc",
   "metadata": {},
   "source": [
    "# 19. Write a code to find the union of two sets {1, 2, 3} and {3, 4, 5}.\n",
    ":- Union of {1, 2, 3} and {3, 4, 5}"
   ]
  },
  {
   "cell_type": "code",
   "execution_count": null,
   "id": "fecf8db1-bd9e-480e-b039-95121475aa20",
   "metadata": {},
   "outputs": [],
   "source": [
    "#example\n",
    "a = {1, 2, 3}\n",
    "b = {3, 4, 5}\n",
    "print(a.union(b))  # Output: {1, 2, 3, 4, 5}"
   ]
  },
  {
   "cell_type": "markdown",
   "id": "46679b61-da81-48e9-b632-6e4f9f6af99f",
   "metadata": {},
   "source": [
    "# 20. Write a code to find the intersection of two sets {1, 2, 3} and {2, 3, 4}.\n",
    ":- Intersection of {1, 2, 3} and {2, 3, 4}"
   ]
  },
  {
   "cell_type": "code",
   "execution_count": null,
   "id": "c948e4b9-2c08-402e-9848-1085ecba6d56",
   "metadata": {},
   "outputs": [],
   "source": [
    "#example\n",
    "a = {1, 2, 3}\n",
    "b = {2, 3, 4}\n",
    "print(a.intersection(b))  # Output: {2, 3}"
   ]
  },
  {
   "cell_type": "markdown",
   "id": "d17767f7-2973-4473-a13f-e71153a48074",
   "metadata": {},
   "source": [
    "# 21 . Write a code to create a dictionary with the keys \"name\", \"age\", and \"city\", and print it.\n",
    ":- Create dictionary with \"name\", \"age\", \"city\""
   ]
  },
  {
   "cell_type": "code",
   "execution_count": null,
   "id": "d26326ec-734c-4a65-8c9a-70eead75ff5c",
   "metadata": {},
   "outputs": [],
   "source": [
    "#example\n",
    "info = {\"name\": \"John\", \"age\": 25, \"city\": \"New York\"}\n",
    "print(info)"
   ]
  },
  {
   "cell_type": "markdown",
   "id": "f3ae118c-a713-4d4e-9560-10f196081ea0",
   "metadata": {},
   "source": [
    "# 22. Write a code to add a new key-value pair \"country\": \"USA\" to the dictionary {'name': 'John', 'age': 25}.\n",
    ":-  Add \"country\": \"USA\" to dictionary"
   ]
  },
  {
   "cell_type": "code",
   "execution_count": null,
   "id": "04508e30-e368-40cb-9d7a-420654c92c8e",
   "metadata": {},
   "outputs": [],
   "source": [
    "#exampe\n",
    "d = {'name': 'John', 'age': 25}\n",
    "d[\"country\"] = \"USA\"\n",
    "print(d)"
   ]
  },
  {
   "cell_type": "markdown",
   "id": "a17199f5-642b-47ba-802d-abcce5f0959c",
   "metadata": {},
   "source": [
    "# 23. Write a code to access the value associated with the key \"name\" in the dictionary {'name': 'Alice', 'age': 30}.\n",
    ":- Access value of \"name\" in {'name': 'Alice', 'age': 30}"
   ]
  },
  {
   "cell_type": "code",
   "execution_count": null,
   "id": "a2591359-53b2-456a-a8be-e5618be093c9",
   "metadata": {},
   "outputs": [],
   "source": [
    "#example\n",
    "d = {'name': 'Alice', 'age': 30}\n",
    "print(d[\"name\"])  # Output: Alice"
   ]
  },
  {
   "cell_type": "markdown",
   "id": "3cd4fe61-ea5f-4f2b-9a12-6bd23cf9837c",
   "metadata": {},
   "source": [
    "# 24. Write a code to remove the key \"age\" from the dictionary {'name': 'Bob', 'age': 22, 'city': 'New York'}.\n",
    ":-  Remove \"age\" from {'name': 'Bob', 'age': 22, 'city': 'New York'}"
   ]
  },
  {
   "cell_type": "code",
   "execution_count": null,
   "id": "797fcea5-e29f-44c4-891b-489418589cc8",
   "metadata": {},
   "outputs": [],
   "source": [
    "#example\n",
    "d = {'name': 'Bob', 'age': 22, 'city': 'New York'}\n",
    "del d[\"age\"]\n",
    "print(d)\n"
   ]
  },
  {
   "cell_type": "markdown",
   "id": "feee6d64-8215-4d19-8aa8-e036e2f5fcf0",
   "metadata": {},
   "source": [
    "# 25. Write a code to check if the key \"city\" exists in the dictionary {'name': 'Alice', 'city': 'Paris'}.\n",
    ":-Check if \"city\" exists in {'name': 'Alice', 'city': 'Paris'}"
   ]
  },
  {
   "cell_type": "code",
   "execution_count": null,
   "id": "58bc4a2e-0112-4b89-8ec7-9243fc03e474",
   "metadata": {},
   "outputs": [],
   "source": [
    "#example\n",
    "d = {'name': 'Alice', 'city': 'Paris'}\n",
    "print(\"city\" in d)  # Output: True"
   ]
  },
  {
   "cell_type": "markdown",
   "id": "2f5c3120-fc72-4919-bdaa-1565c7cf17e3",
   "metadata": {},
   "source": [
    "# 26. Write a code to create a list, a tuple, and a dictionary, and print them all.\n",
    ":-  Create list, tuple, and dictionary & print them"
   ]
  },
  {
   "cell_type": "code",
   "execution_count": null,
   "id": "abb81cbd-67ff-42dc-b4fc-6483cf18b293",
   "metadata": {},
   "outputs": [],
   "source": [
    "#example\n",
    "lst = [1, 2, 3]\n",
    "tup = (4, 5, 6)\n",
    "d = {\"a\": 1, \"b\": 2}\n",
    "print(lst, tup, d)\n"
   ]
  },
  {
   "cell_type": "markdown",
   "id": "6c6d507b-bc64-4757-84ef-c3f53ad1ebb1",
   "metadata": {},
   "source": [
    "# 27. Write a code to create a list of 5 random numbers between 1 and 100, sort it in ascending order, and print the result.(replaced)\n",
    ":-List of 5 random numbers between 1–100, sort ascending"
   ]
  },
  {
   "cell_type": "code",
   "execution_count": null,
   "id": "5cd967dd-0bda-4544-9e9e-e788c99db923",
   "metadata": {},
   "outputs": [],
   "source": [
    "#example\n",
    "import random\n",
    "\n",
    "nums = random.sample(range(1, 101), 5)\n",
    "nums.sort()\n",
    "print(nums)\n"
   ]
  },
  {
   "cell_type": "markdown",
   "id": "36339ac4-d7a5-4f9e-9121-94e182042a73",
   "metadata": {},
   "source": [
    "# 28. Write a code to create a list with strings and print the element at the third index.\n",
    ":-Create list with strings and print element at third index"
   ]
  },
  {
   "cell_type": "code",
   "execution_count": null,
   "id": "25073453-b7b1-4b12-a878-5fa48b9a20a6",
   "metadata": {},
   "outputs": [],
   "source": [
    "#example\n",
    "words = [\"apple\", \"banana\", \"cherry\", \"date\", \"fig\"]\n",
    "print(words[3])  # Output: date"
   ]
  },
  {
   "cell_type": "markdown",
   "id": "dbf5fb5e-da3d-4152-9e93-69ac62e51396",
   "metadata": {},
   "source": [
    "# 29 . Write a code to combine two dictionaries into one and print the result.\n",
    ":- Combine two dictionaries and print"
   ]
  },
  {
   "cell_type": "code",
   "execution_count": null,
   "id": "081067bf-1400-4a53-bbfd-4feea1be356a",
   "metadata": {},
   "outputs": [],
   "source": [
    "#example\n",
    "d1 = {\"a\": 1, \"b\": 2}\n",
    "d2 = {\"c\": 3, \"d\": 4}\n",
    "combined = {**d1, **d2}\n",
    "print(combined)"
   ]
  },
  {
   "cell_type": "markdown",
   "id": "4db0b9c3-7f97-4460-bc94-c30be88daab7",
   "metadata": {},
   "source": [
    "# 30. Write a code to convert a list of strings into a set.\n",
    ":-  Convert list of strings to set"
   ]
  },
  {
   "cell_type": "code",
   "execution_count": null,
   "id": "e49220a9-b6e8-45a7-a810-c985be7ee344",
   "metadata": {},
   "outputs": [],
   "source": [
    "#example\n",
    "lst = [\"apple\", \"banana\", \"apple\", \"cherry\"]\n",
    "s = set(lst)\n",
    "print(s)  # Output: {'apple', 'banana', 'cherry'}"
   ]
  }
 ],
 "metadata": {
  "kernelspec": {
   "display_name": "Python 3 (ipykernel)",
   "language": "python",
   "name": "python3"
  },
  "language_info": {
   "codemirror_mode": {
    "name": "ipython",
    "version": 3
   },
   "file_extension": ".py",
   "mimetype": "text/x-python",
   "name": "python",
   "nbconvert_exporter": "python",
   "pygments_lexer": "ipython3",
   "version": "3.13.2"
  }
 },
 "nbformat": 4,
 "nbformat_minor": 5
}
